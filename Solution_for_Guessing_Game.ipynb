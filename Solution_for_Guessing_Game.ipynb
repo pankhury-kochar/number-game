{
  "nbformat": 4,
  "nbformat_minor": 0,
  "metadata": {
    "colab": {
      "provenance": [],
      "include_colab_link": true
    },
    "kernelspec": {
      "name": "python3",
      "display_name": "Python 3"
    },
    "language_info": {
      "name": "python"
    }
  },
  "cells": [
    {
      "cell_type": "markdown",
      "metadata": {
        "id": "view-in-github",
        "colab_type": "text"
      },
      "source": [
        "<a href=\"https://colab.research.google.com/github/pankhury-kochar/number-game/blob/main/Solution_for_Guessing_Game.ipynb\" target=\"_parent\"><img src=\"https://colab.research.google.com/assets/colab-badge.svg\" alt=\"Open In Colab\"/></a>"
      ]
    },
    {
      "cell_type": "markdown",
      "source": [
        "# Creating A Guessing Game In Python"
      ],
      "metadata": {
        "id": "8ftNEwineqdm"
      }
    },
    {
      "cell_type": "markdown",
      "source": [
        "## Table of Contents\n",
        "1. Getting Started\n",
        "2. The Game Logic\n",
        "3. Creating Guessing Game with Python\n",
        "4. Guessing Game Program In Python\n",
        "5. How the Game Works\n",
        "6. Conclusion\n",
        "\n",
        "https://www.mathsisfun.com/games/guess_number.html\n",
        "\n"
      ],
      "metadata": {
        "id": "MF-Gt-RKeuBD"
      }
    },
    {
      "cell_type": "markdown",
      "source": [
        "## Getting Started\n",
        "\n",
        "> A guessing game is a classic and fun way to learn basics of python for programmers in begining. We will walk you through the process of creating a simple guessing game using Python. This game will randomly generate a number, and the user will have to guess the number within a certain range.\n",
        "\n",
        "\n",
        "> This is going to be a simple guessing game where the computer will generate a random number between 1 to 100, and the user has to guess it in 5 or 10 attempts.\n",
        "\n",
        "> Based on the user's guess computer will give various hints if the number is high or low. When the user guess matches the number computer will print the answer along with the number of attempts.\n",
        "\n",
        "\n",
        "> Let's get started!\n"
      ],
      "metadata": {
        "id": "0yi8Hq53fLfe"
      }
    },
    {
      "cell_type": "markdown",
      "source": [
        "## The Game Logic\n",
        "\n",
        "The Number Guessing Game revolves around a few key elements:\n",
        "\n",
        "**1. Generating a Random Number**: The game will randomly generate a number between 1 and 100, which you will have to guess.\n",
        "\n",
        "**2. User Interaction**: You will be asked to enter your name, making the game more personalized. Then, you can ask for level of difficulty like easy or hard where we will assign easy 10 guesses and hard level only 5 guesses.\n",
        "\n",
        "**3. Feedback Loop**: After each guess, the game will provide feedback on whether your guess is too low or too high. This will guide you in making your subsequent guesses.\n",
        "\n",
        "**4. Limited Attempts**: You will have a maximum of 5 attempts to guess the correct number for hard level and 10 for easy level based on level you choosen. Can you solve the mystery within these attempts?\n",
        "\n",
        "**5. Victory or Defeat**: If you successfully guess the number within the given attempts, you will be celebrated for your guessing prowess. If not, the game will reveal the correct number."
      ],
      "metadata": {
        "id": "Nm2sk7lef8qb"
      }
    },
    {
      "cell_type": "code",
      "execution_count": null,
      "metadata": {
        "id": "Oyl_s2Eiel8d"
      },
      "outputs": [],
      "source": [
        "Hello, What's your name?\n",
        "Mohan\n",
        "\n",
        "Hi, Mohan I am Guessing a number between 1 and 100:\n",
        "\n",
        "Choose the difficulty Level, Type 'easy' or 'hard': easy\n",
        "\n",
        "You have 10 attempts to guess the number.\n",
        "Make a guess: 2\n",
        "\n",
        "Your guess is too low\n",
        "Guess again.\n",
        "You have 9 attempts to guess the number.\n",
        "Make a guess: 99\n",
        "\n",
        "Your guess is too high\n",
        "Guess again.\n",
        "You have 8 attempts to guess the number.\n",
        "Make a guess: 50\n",
        "\n",
        "You got it!  The answer was 50.\n",
        "You guessed the number in 3 tries!"
      ]
    },
    {
      "cell_type": "markdown",
      "source": [
        "# Creating Guessing Game with Python\n",
        "\n",
        "To generate a random number we will use a Python module named random to use this module in our program, we first need to import it."
      ],
      "metadata": {
        "id": "67Yc34UujeXf"
      }
    },
    {
      "cell_type": "code",
      "source": [
        "import random"
      ],
      "metadata": {
        "id": "Z9lF2DWPh_eC"
      },
      "execution_count": null,
      "outputs": []
    },
    {
      "cell_type": "markdown",
      "source": [
        "We will use the random module to generate a number between 1 to 100 and store it in a variable named number."
      ],
      "metadata": {
        "id": "2VNQ4SMfj1U1"
      }
    },
    {
      "cell_type": "code",
      "source": [
        "answer = random.randint(1,100)\n",
        "\n",
        "print(answer)"
      ],
      "metadata": {
        "id": "rqBpKLB3k5Gd",
        "colab": {
          "base_uri": "https://localhost:8080/"
        },
        "outputId": "e12113b7-fe17-4ad6-c6db-a7804aac94a2"
      },
      "execution_count": null,
      "outputs": [
        {
          "output_type": "stream",
          "name": "stdout",
          "text": [
            "80\n"
          ]
        }
      ]
    },
    {
      "cell_type": "markdown",
      "source": [
        "Now we will prompt the user to enter his name and store it to a variable named playerName."
      ],
      "metadata": {
        "id": "3d6O-7htk58U"
      }
    },
    {
      "cell_type": "code",
      "source": [
        "userName = input(\"Welcome to the Game, Enter Your Name:\")\n",
        "print(f\"hi, {userName} I am Guessing a number between 1 and 100:\")\n"
      ],
      "metadata": {
        "id": "UpnYNbPYlSF9",
        "colab": {
          "base_uri": "https://localhost:8080/"
        },
        "outputId": "612f66f1-5db3-4709-f3f2-ad0fa8768dae"
      },
      "execution_count": null,
      "outputs": [
        {
          "output_type": "stream",
          "name": "stdout",
          "text": [
            "Welcome to the Game, Enter Your Name:mohan\n",
            "hi, mohan I am Guessing a number between 1 and 100:\n"
          ]
        }
      ]
    },
    {
      "cell_type": "markdown",
      "source": [
        "In the next step, we will create a variable named guesses and assign 5 or 10 based on easy or hard level that user choosen. Later we will increase this value on each iteration of the while loop.\n",
        "\n",
        "Finally, before constructing the while loop, we will print a string which includes the playerName."
      ],
      "metadata": {
        "id": "7uq9CYNelXXb"
      }
    },
    {
      "cell_type": "code",
      "source": [
        "# chooseLevel = 5 or 10\n",
        "\n",
        "chooseLevel = input(\"Choose the difficulty Level, Type 'easy' or 'hard':\")\n",
        "\n",
        "if chooseLevel == \"easy\":\n",
        "  guesses = 10\n",
        "else:\n",
        "  guesses = 5\n",
        "\n",
        "# print(guesses)"
      ],
      "metadata": {
        "id": "zM9ZS7-el1E5",
        "colab": {
          "base_uri": "https://localhost:8080/"
        },
        "outputId": "5ffbba58-66b8-4cc7-e1bc-803d158f572b"
      },
      "execution_count": null,
      "outputs": [
        {
          "output_type": "stream",
          "name": "stdout",
          "text": [
            "Choose the difficulty Level, Type 'easy' or 'hard':easy\n",
            "10\n"
          ]
        }
      ]
    },
    {
      "cell_type": "markdown",
      "source": [
        "Now let's design the while loop."
      ],
      "metadata": {
        "id": "qb-iauN6l12Z"
      }
    },
    {
      "cell_type": "code",
      "source": [
        "triesLeft = guesses\n",
        "\n",
        "while guesses != 0:\n",
        "  print(f\"You have {guesses} attempts to guess the number\")\n",
        "\n",
        "  userGuess = input(f\"Make a guess: \")\n",
        "\n",
        "  if userGuess.isdigit():\n",
        "    userGuess = int(userGuess)\n",
        "\n",
        "    if userGuess == answer:\n",
        "      print(f\"You got it!  The answer was {userGuess}.\")\n",
        "      print(f\"You guessed the number in {triesLeft - guesses +1} tries!\")\n",
        "      break\n",
        "\n",
        "    elif userGuess > answer:\n",
        "      print(\"Your guess is too high \\n Guess Again\")\n",
        "      guesses -= 1\n",
        "\n",
        "    else:\n",
        "      print(\"Your guess is too low \\n Guess Again\")\n",
        "      guesses -= 1\n",
        "\n",
        "  else:\n",
        "    print(\"Please enter only Numbers from 1 to 100\")\n",
        "\n"
      ],
      "metadata": {
        "id": "Isol5hdZmIe-",
        "colab": {
          "base_uri": "https://localhost:8080/"
        },
        "outputId": "97096bf3-cef8-4be6-e749-3c07193b29e9"
      },
      "execution_count": null,
      "outputs": [
        {
          "output_type": "stream",
          "name": "stdout",
          "text": [
            "You have 10 attempts to guess the number\n",
            "Make a guess: 22\n",
            "Your guess is too low \n",
            " Guess Again\n",
            "You have 9 attempts to guess the number\n",
            "Make a guess: 99\n",
            "Your guess is too high \n",
            " Guess Again\n",
            "You have 8 attempts to guess the number\n",
            "Make a guess: 80\n",
            "You got it!  The answer was 80.\n",
            "You guessed the number in 3 tries!\n"
          ]
        }
      ]
    },
    {
      "cell_type": "markdown",
      "source": [
        "In the first line, we are defining the controlling expression of the while loop. Our game will give user 5 or 10 attempts to guess the number, hence less than guesses because we have already assigned the number_of_guesses variable to 0.\n",
        "\n",
        "Within the loop, we are taking the input from the user and storing it in the guess variable. However, the user input we are getting from the user is a string object and to perform mathematical operations on it we first need to convert it to an integer which can be done by the Python's inbuilt int() method.\n",
        "\n",
        "In the next line, we are incrementing the value of number_of_guesses variable by 1.\n",
        "\n",
        "Below it, we have 3 conditional statements.\n",
        "\n",
        "In the first, if statement we are comparing if the guess is less than the generated number if this statement evaluates to true, we print the corresponding Guess.\n",
        "\n",
        "Similarly, we are checking if the guess is greater than the generated number.\n",
        "The final if statement has the break keyword, which will terminate the loop entirely,\n",
        "So when the guess is equal to the generated number loop gets terminated."
      ],
      "metadata": {
        "id": "U2T6j8y08Hzq"
      }
    },
    {
      "cell_type": "code",
      "source": [],
      "metadata": {
        "id": "8GNG_2eT8yq8"
      },
      "execution_count": null,
      "outputs": []
    },
    {
      "cell_type": "markdown",
      "source": [
        "Here we are first verifying if the user has guessed the number or not. if they did, then we will print a message for them along with the number of tries.\n",
        "\n",
        "\n",
        "If the player couldn't guess the number at the end we will print the number along with a message."
      ],
      "metadata": {
        "id": "mpWgHjN99OP1"
      }
    },
    {
      "cell_type": "markdown",
      "source": [
        "# Guessing Game Program In Python\n",
        "If you have been following us, then this is how your program should look like:"
      ],
      "metadata": {
        "id": "64hd3n0c9oG6"
      }
    },
    {
      "cell_type": "code",
      "source": [
        "import random\n",
        "\n",
        "\n",
        "answer = random.randint(1,100)\n",
        "# print(answer)\n",
        "\n",
        "\n",
        "\n",
        "userName = input(\"Welcome to the Game, Enter Your Name:\")\n",
        "print(f\"hi, {userName} I am Guessing a number between 1 and 100:\")\n",
        "\n",
        "\n",
        "# chooseLevel = 5 or 10\n",
        "\n",
        "\n",
        "while True:\n",
        "  chooseLevel = input(\"Choose the difficulty Level, Type 'easy' or 'hard':\")\n",
        "\n",
        "  if chooseLevel.lower() == \"easy\":\n",
        "    guesses = 10\n",
        "    break\n",
        "  if chooseLevel.lower() == \"hard\":\n",
        "    guesses = 5\n",
        "    break\n",
        "\n",
        "  print(\"pelease type only given options\")\n",
        "\n",
        "# print(guesses)\n",
        "\n",
        "\n",
        "\n",
        "\n",
        "triesLeft = guesses\n",
        "\n",
        "while guesses != 0:\n",
        "  print(f\"You have {guesses} attempts to guess the number\")\n",
        "\n",
        "  userGuess = input(f\"Make a guess: \")\n",
        "\n",
        "  if userGuess.isdigit():\n",
        "    userGuess = int(userGuess)\n",
        "\n",
        "    if userGuess == answer:\n",
        "      print(f\"You got it!  The answer was {userGuess}.\")\n",
        "      print(f\"You guessed the number in {triesLeft - guesses +1} tries!\")\n",
        "      break\n",
        "\n",
        "    elif userGuess > answer:\n",
        "      print(\"Your guess is too high \\n Guess Again\")\n",
        "      guesses -= 1\n",
        "\n",
        "    else:\n",
        "      print(\"Your guess is too low \\n Guess Again\")\n",
        "      guesses -= 1\n",
        "\n",
        "  else:\n",
        "    print(\"Please enter only Numbers from 1 to 100\")\n",
        "\n",
        "\n",
        "if guesses == 0:\n",
        "  print(\"you Lost the game, all attempts are over\")\n",
        "  print(\"the actual annwer:\", answer)"
      ],
      "metadata": {
        "id": "Ddv8OBRg9O-o"
      },
      "execution_count": null,
      "outputs": []
    },
    {
      "cell_type": "markdown",
      "source": [
        "Now let's run our game!\n",
        "\n",
        "Great Job"
      ],
      "metadata": {
        "id": "f8UsVx15_bS8"
      }
    }
  ]
}