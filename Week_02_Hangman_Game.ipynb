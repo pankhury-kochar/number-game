{
  "nbformat": 4,
  "nbformat_minor": 0,
  "metadata": {
    "colab": {
      "provenance": [],
      "collapsed_sections": [
        "BPkI0p-oyJM8",
        "SUHF01sUzbh4"
      ],
      "include_colab_link": true
    },
    "kernelspec": {
      "name": "python3",
      "display_name": "Python 3"
    },
    "language_info": {
      "name": "python"
    }
  },
  "cells": [
    {
      "cell_type": "markdown",
      "metadata": {
        "id": "view-in-github",
        "colab_type": "text"
      },
      "source": [
        "<a href=\"https://colab.research.google.com/github/pankhury-kochar/number-game/blob/main/Week_02_Hangman_Game.ipynb\" target=\"_parent\"><img src=\"https://colab.research.google.com/assets/colab-badge.svg\" alt=\"Open In Colab\"/></a>"
      ]
    },
    {
      "cell_type": "markdown",
      "source": [
        "# Hangman Game Week 02\n",
        "\n",
        "How Hangman Game works: https://en.wikipedia.org/wiki/Hangman_(game)\n",
        "\n",
        "Play Hangman Game with Friends: https://hangmanwordgame.com/?fca=1&success=0#/"
      ],
      "metadata": {
        "id": "h8tjVlxCmBap"
      }
    },
    {
      "cell_type": "markdown",
      "source": [
        "# Step 1"
      ],
      "metadata": {
        "id": "BPkI0p-oyJM8"
      }
    },
    {
      "cell_type": "code",
      "source": [
        "word_list = [\"prepinsta\", \"prime\", \"mohan\"]\n",
        "\n",
        "# TODO-1 - Randomly choose a word from the word_list and assign it to a variable called chosen_word.\n",
        "\n",
        "# TODO-2 - Ask the user to guess a letter and assign their answer to a variable called guess. Make guess lowercase.\n",
        "\n",
        "# TODO-3 - Check if the letter the user guessed (guess) is one of the letters in the chosen_word.\n"
      ],
      "metadata": {
        "id": "Fp-IB83eyW8r"
      },
      "execution_count": null,
      "outputs": []
    },
    {
      "cell_type": "markdown",
      "source": [
        "# Step 02"
      ],
      "metadata": {
        "id": "SUHF01sUzbh4"
      }
    },
    {
      "cell_type": "code",
      "source": [
        "#Step 2\n",
        "\n",
        "# include Step 01 Solution\n",
        "\n",
        "\n",
        "\n",
        "#TODO-1: - Create an empty List called display.\n",
        "#For each letter in the chosen_word, add a \"_\" to 'display'.\n",
        "#So if the chosen_word was \"mohan\", display should be [\"_\", \"_\", \"_\", \"_\", \"_\"] with 5 \"_\" representing each letter to guess.\n",
        "\n",
        "\n",
        "\n",
        "#TODO-2: - Loop through each position in the chosen_word;\n",
        "#If the letter at that position matches 'guess' then reveal that letter in the display at that position.\n",
        "#e.g. If the user guessed \"a\" and the chosen word was \"mohan\", then display should be [\"_\", \"_\", \"_\", \"a\", \"_\"].\n",
        "\n",
        "\n",
        "\n",
        "\n",
        "#TODO-3: - Print 'display' and you should see the guessed letter in the correct position and every other letter replace with \"_\".\n",
        "#Hint - Don't worry about getting the user to guess the next letter. We'll tackle that in step 3.\n"
      ],
      "metadata": {
        "id": "xuGUEMiGzdan"
      },
      "execution_count": null,
      "outputs": []
    },
    {
      "cell_type": "markdown",
      "source": [
        "# Step 03"
      ],
      "metadata": {
        "id": "q3gZm9n01rnk"
      }
    },
    {
      "cell_type": "code",
      "source": [
        "#Step 3\n",
        "\n",
        "# Step 02 code integration with while loop\n",
        "\n",
        "#TODO-1: - Use a while loop to let the user guess again.\n",
        "#The loop should only stop once the user has guessed all the letters in the chosen_word and 'display' has no more blanks (\"_\").\n",
        "#Then you can tell the user they've won."
      ],
      "metadata": {
        "id": "y3pL_of50YbW"
      },
      "execution_count": null,
      "outputs": []
    },
    {
      "cell_type": "markdown",
      "source": [
        "# Step 04"
      ],
      "metadata": {
        "id": "dFsxtR2p4nh-"
      }
    },
    {
      "cell_type": "code",
      "source": [
        "#Step 4\n",
        "\n",
        "\n",
        "#TODO-1: - Create a variable called 'lives' to keep track of the number of lives left.\n",
        "#Set 'lives' to equal 6.\n",
        "\n",
        "\n",
        "\n",
        "#TODO-2: - If guess is not a letter in the chosen_word,\n",
        "#Then reduce 'lives' by 1.\n",
        "#If lives goes down to 0 then the game should stop and it should print \"You lose.\"\n",
        "\n"
      ],
      "metadata": {
        "id": "fu2D3akx4p0D"
      },
      "execution_count": null,
      "outputs": []
    },
    {
      "cell_type": "markdown",
      "source": [
        "# Step 05\n",
        "\n",
        "Complete Code"
      ],
      "metadata": {
        "id": "xFMY-dOg7NwB"
      }
    },
    {
      "cell_type": "code",
      "source": [
        "# Your Code\n",
        "word_list = [\"prepinsta\", \"prime\", \"mohan\"]\n",
        "import random\n",
        "chosen_word = random.choice(word_list)\n",
        "print(chosen_word)\n",
        "\n",
        "display = [\"_\"] * len(chosen_word)\n",
        "print(display)\n",
        "\n",
        "lives = 6\n",
        "guessed_indices = {letter: [] for letter in chosen_word}  # Dictionary to store guessed indices for each letter\n",
        "while \"_\" in display and lives > 0:\n",
        "    guess = input(\"Guess a letter: \").lower()\n",
        "    if guess in guessed_indices:\n",
        "        indices = [i for i in range(len(chosen_word)) if chosen_word[i] == guess and i not in guessed_indices[guess]]\n",
        "        if indices:\n",
        "            guess_idx = random.choice(indices)\n",
        "            guessed_indices[guess].append(guess_idx)\n",
        "            display[guess_idx] = guess\n",
        "        else:\n",
        "            lives -= 1\n",
        "            print(\"No more occurrences of this letter. Lives remaining:\", lives)\n",
        "    else:\n",
        "        lives -= 1\n",
        "        print(\"Incorrect guess. Lives remaining:\", lives)\n",
        "    print(\" \".join(display))\n",
        "\n",
        "if \"_\" not in display:\n",
        "    print(\"Congratulations! You guessed the word.\")\n",
        "else:\n",
        "    print(\"Sorry, you ran out of lives. The word was:\", chosen_word)"
      ],
      "metadata": {
        "id": "GlGMx_Ws7vuN",
        "colab": {
          "base_uri": "https://localhost:8080/"
        },
        "outputId": "37ada2b8-4d54-43d6-e6f1-65588e0d1014"
      },
      "execution_count": null,
      "outputs": [
        {
          "output_type": "stream",
          "name": "stdout",
          "text": [
            "mohan\n",
            "['_', '_', '_', '_', '_']\n"
          ]
        }
      ]
    }
  ]
}